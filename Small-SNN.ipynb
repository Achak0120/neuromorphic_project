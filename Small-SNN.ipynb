{
 "cells": [
  {
   "cell_type": "code",
   "execution_count": 9,
   "id": "eb4bda77-cb8a-4cf4-ad02-bf3745b30f2b",
   "metadata": {},
   "outputs": [],
   "source": [
    "import torch\n",
    "import torch.nn as nn\n",
    "import numpy as np\n",
    "import snntorch as snn\n",
    "import matplotlib.pyplot as plt\n",
    "from snntorch import spikeplot as plt\n",
    "from snntorch import spikegen"
   ]
  },
  {
   "cell_type": "code",
   "execution_count": 12,
   "id": "36675316-a9ff-4169-9c0b-6ad5b6cac5d5",
   "metadata": {},
   "outputs": [],
   "source": [
    "# Small-SNN(500 Neurons) - LIF Model (\"takes the sum of weighted inputs, much like the artificial neuron. But rather than passing it directly to an activation function, it will integrate the input over time with a leakage, much like an RC circuit. If the integrated value exceeds a threshold, then the LIF neuron will emit a voltage spike.\"\" - snnTorch Docs 2.1\")\n",
    "\n",
    "# Define Neuron\n",
    "class Neuron:\n",
    "    def __init__(self, v_th, v_reset, v_rest, tau_m, dt):\n",
    "        self.v = v_rest # voltage starts at initial point)\n",
    "        self.I = 0.0    # starts with no current\n",
    "        self.spike = 0  # not firing initially\n",
    "\n",
    "    def step():\n",
    "        \n",
    "        \n",
    "\n"
   ]
  },
  {
   "cell_type": "code",
   "execution_count": null,
   "id": "6f1771f0-c256-42f6-b91b-0a4ac8b9dce1",
   "metadata": {},
   "outputs": [],
   "source": []
  }
 ],
 "metadata": {
  "kernelspec": {
   "display_name": "Python (neuromorphic)",
   "language": "python",
   "name": "neuromorphic_env"
  },
  "language_info": {
   "codemirror_mode": {
    "name": "ipython",
    "version": 3
   },
   "file_extension": ".py",
   "mimetype": "text/x-python",
   "name": "python",
   "nbconvert_exporter": "python",
   "pygments_lexer": "ipython3",
   "version": "3.12.11"
  }
 },
 "nbformat": 4,
 "nbformat_minor": 5
}
